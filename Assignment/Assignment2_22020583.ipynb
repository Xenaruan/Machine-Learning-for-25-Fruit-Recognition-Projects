{
 "cells": [
  {
   "cell_type": "code",
   "execution_count": 474,
   "metadata": {},
   "outputs": [],
   "source": [
    "#Adapted from the Keras Example https://keras.io/examples/structured_data/collaborative_filtering_movielens/"
   ]
  },
  {
   "cell_type": "markdown",
   "metadata": {},
   "source": [
    "# Assessed Assignment 2\n",
    "\n",
    "Please remember to comment your code clearly, submit ``.ipynb`` \n",
    "\n",
    "## Task 1\n",
    "\n",
    "We're going to ask you take the trained model and write the code to make two metrics - **Diversity** and **Novelty**. You should end up with **one statistic** for each that tells you something about the recommendations of the trained model based on the **whole dataset**.\n",
    "\n",
    "\n",
    "#### Pro Tip\n",
    "\n",
    "This will take quite a long time to run on the whole dataset, so start off by trying to get the code to work for **one user**, then expand to **two users**, then **every user**.\n",
    "\n",
    "### Diversity \n",
    "\n",
    "This tells us what the mean diversity (inverse of the similarity, based on movie embeddings) between each film in every users Top 10 films is. \n",
    "\n",
    "1. Calculate every user's top 10\n",
    "\n",
    "\n",
    "2. For each top 10, get the embedding for each film then use this to calculate the similarity matrix\n",
    "\n",
    "\n",
    "3. Invert similarity to get the difference\n",
    "\n",
    "\n",
    "4. Get mean difference for each top 10 \n",
    "\n",
    "\n",
    "5. Report the mean for whole dataset (every top 10)\n",
    "\n",
    "\n",
    "### Novelty \n",
    "\n",
    "This tells us what the mean popularity (e.g. mean rating) of the films in every users Top 10 films is \n",
    "\n",
    "1. Calculate every user's top 10\n",
    "\n",
    "\n",
    "2. For each top 10, get the mean rating for each film (based on the original **MovieLens Small** dataset (``df = pd.read_csv(\"ml-latest-small/ratings.csv\")``). \n",
    "\n",
    "\n",
    "3. Get the mean rating for each top 10.\n",
    "\n",
    "\n",
    "4. Report the mean for the whole dataset (every top 10).\n",
    "\n",
    "\n",
    "\n",
    "## Task 2\n",
    "\n",
    "Using a dimensionality reduction approach (PCA? TSNE?), plot the top 30 best rated films on a 2-D graph based on their movie embeddings. Label each point with the title.\n",
    "\n",
    "There is infact ~400 films that have an average rating of 5 (because some films have only 1 rating). Can you adjust or filter for this?"
   ]
  },
  {
   "cell_type": "markdown",
   "metadata": {},
   "source": [
    "# Assignment Task 1 "
   ]
  },
  {
   "cell_type": "markdown",
   "metadata": {},
   "source": [
    "### Loading dataset and Prepare Data and Model for Training"
   ]
  },
  {
   "cell_type": "code",
   "execution_count": 2,
   "metadata": {},
   "outputs": [],
   "source": [
    "## IMPORT modular ##\n",
    "import pandas as pd\n",
    "import numpy as np\n",
    "from pathlib import Path\n",
    "import matplotlib.pyplot as plt\n",
    "import torch"
   ]
  },
  {
   "cell_type": "code",
   "execution_count": 3,
   "metadata": {},
   "outputs": [
    {
     "data": {
      "text/plain": [
       "100004"
      ]
     },
     "execution_count": 3,
     "metadata": {},
     "output_type": "execute_result"
    }
   ],
   "source": [
    "df = pd.read_csv(\"/home/featurize/ratings.csv\")\n",
    "len(df)"
   ]
  },
  {
   "cell_type": "code",
   "execution_count": 4,
   "metadata": {},
   "outputs": [
    {
     "data": {
      "text/html": [
       "<div>\n",
       "<style scoped>\n",
       "    .dataframe tbody tr th:only-of-type {\n",
       "        vertical-align: middle;\n",
       "    }\n",
       "\n",
       "    .dataframe tbody tr th {\n",
       "        vertical-align: top;\n",
       "    }\n",
       "\n",
       "    .dataframe thead th {\n",
       "        text-align: right;\n",
       "    }\n",
       "</style>\n",
       "<table border=\"1\" class=\"dataframe\">\n",
       "  <thead>\n",
       "    <tr style=\"text-align: right;\">\n",
       "      <th></th>\n",
       "      <th>userId</th>\n",
       "      <th>movieId</th>\n",
       "      <th>rating</th>\n",
       "      <th>timestamp</th>\n",
       "    </tr>\n",
       "  </thead>\n",
       "  <tbody>\n",
       "    <tr>\n",
       "      <th>99804</th>\n",
       "      <td>668</td>\n",
       "      <td>608</td>\n",
       "      <td>5.0</td>\n",
       "      <td>993613478</td>\n",
       "    </tr>\n",
       "    <tr>\n",
       "      <th>99805</th>\n",
       "      <td>668</td>\n",
       "      <td>720</td>\n",
       "      <td>3.0</td>\n",
       "      <td>993613415</td>\n",
       "    </tr>\n",
       "    <tr>\n",
       "      <th>99806</th>\n",
       "      <td>668</td>\n",
       "      <td>1089</td>\n",
       "      <td>3.0</td>\n",
       "      <td>993613415</td>\n",
       "    </tr>\n",
       "    <tr>\n",
       "      <th>99807</th>\n",
       "      <td>668</td>\n",
       "      <td>1213</td>\n",
       "      <td>5.0</td>\n",
       "      <td>993613359</td>\n",
       "    </tr>\n",
       "    <tr>\n",
       "      <th>99808</th>\n",
       "      <td>668</td>\n",
       "      <td>1221</td>\n",
       "      <td>5.0</td>\n",
       "      <td>993613196</td>\n",
       "    </tr>\n",
       "    <tr>\n",
       "      <th>...</th>\n",
       "      <td>...</td>\n",
       "      <td>...</td>\n",
       "      <td>...</td>\n",
       "      <td>...</td>\n",
       "    </tr>\n",
       "    <tr>\n",
       "      <th>99999</th>\n",
       "      <td>671</td>\n",
       "      <td>6268</td>\n",
       "      <td>2.5</td>\n",
       "      <td>1065579370</td>\n",
       "    </tr>\n",
       "    <tr>\n",
       "      <th>100000</th>\n",
       "      <td>671</td>\n",
       "      <td>6269</td>\n",
       "      <td>4.0</td>\n",
       "      <td>1065149201</td>\n",
       "    </tr>\n",
       "    <tr>\n",
       "      <th>100001</th>\n",
       "      <td>671</td>\n",
       "      <td>6365</td>\n",
       "      <td>4.0</td>\n",
       "      <td>1070940363</td>\n",
       "    </tr>\n",
       "    <tr>\n",
       "      <th>100002</th>\n",
       "      <td>671</td>\n",
       "      <td>6385</td>\n",
       "      <td>2.5</td>\n",
       "      <td>1070979663</td>\n",
       "    </tr>\n",
       "    <tr>\n",
       "      <th>100003</th>\n",
       "      <td>671</td>\n",
       "      <td>6565</td>\n",
       "      <td>3.5</td>\n",
       "      <td>1074784724</td>\n",
       "    </tr>\n",
       "  </tbody>\n",
       "</table>\n",
       "<p>200 rows × 4 columns</p>\n",
       "</div>"
      ],
      "text/plain": [
       "        userId  movieId  rating   timestamp\n",
       "99804      668      608     5.0   993613478\n",
       "99805      668      720     3.0   993613415\n",
       "99806      668     1089     3.0   993613415\n",
       "99807      668     1213     5.0   993613359\n",
       "99808      668     1221     5.0   993613196\n",
       "...        ...      ...     ...         ...\n",
       "99999      671     6268     2.5  1065579370\n",
       "100000     671     6269     4.0  1065149201\n",
       "100001     671     6365     4.0  1070940363\n",
       "100002     671     6385     2.5  1070979663\n",
       "100003     671     6565     3.5  1074784724\n",
       "\n",
       "[200 rows x 4 columns]"
      ]
     },
     "execution_count": 4,
     "metadata": {},
     "output_type": "execute_result"
    }
   ],
   "source": [
    "df.tail(200)"
   ]
  },
  {
   "cell_type": "code",
   "execution_count": null,
   "metadata": {},
   "outputs": [],
   "source": []
  },
  {
   "cell_type": "code",
   "execution_count": 5,
   "metadata": {},
   "outputs": [],
   "source": [
    "#Use the unique() function to get the total number of unique users and movies \n",
    "#(essentially removing duplicates)\n",
    "user_ids = df[\"userId\"].unique().tolist()   #Puts unique user IDs into a list\n",
    "movie_ids = df[\"movieId\"].unique().tolist()  #Puts unique movie IDs into a list"
   ]
  },
  {
   "cell_type": "code",
   "execution_count": 15,
   "metadata": {},
   "outputs": [
    {
     "name": "stdout",
     "output_type": "stream",
     "text": [
      "There are have 9066 movies in this dataset and 671 users\n"
     ]
    }
   ],
   "source": [
    "print('There are have', len(movie_ids), 'movies in this dataset and', len(user_ids), 'users')"
   ]
  },
  {
   "cell_type": "code",
   "execution_count": 7,
   "metadata": {},
   "outputs": [],
   "source": [
    "#Make a dictionary mapping ids (keys, x) to indexes (values, i)\n",
    "user_id_to_index = {x: i for i, x in enumerate(user_ids)}\n",
    "movie_id_to_index = {x: i for i, x in enumerate(movie_ids)}"
   ]
  },
  {
   "cell_type": "code",
   "execution_count": 8,
   "metadata": {},
   "outputs": [],
   "source": [
    "#Make a new column in the dataframe which contains the appropriate index for each user and movie\n",
    "df[\"user_index\"] = [user_id_to_index[i] for i in df[\"userId\"]]\n",
    "df[\"movie_index\"] = [movie_id_to_index[i] for i in df[\"movieId\"]]"
   ]
  },
  {
   "cell_type": "code",
   "execution_count": 9,
   "metadata": {},
   "outputs": [
    {
     "data": {
      "text/html": [
       "<div>\n",
       "<style scoped>\n",
       "    .dataframe tbody tr th:only-of-type {\n",
       "        vertical-align: middle;\n",
       "    }\n",
       "\n",
       "    .dataframe tbody tr th {\n",
       "        vertical-align: top;\n",
       "    }\n",
       "\n",
       "    .dataframe thead th {\n",
       "        text-align: right;\n",
       "    }\n",
       "</style>\n",
       "<table border=\"1\" class=\"dataframe\">\n",
       "  <thead>\n",
       "    <tr style=\"text-align: right;\">\n",
       "      <th></th>\n",
       "      <th>userId</th>\n",
       "      <th>movieId</th>\n",
       "      <th>rating</th>\n",
       "      <th>timestamp</th>\n",
       "      <th>user_index</th>\n",
       "      <th>movie_index</th>\n",
       "    </tr>\n",
       "  </thead>\n",
       "  <tbody>\n",
       "    <tr>\n",
       "      <th>0</th>\n",
       "      <td>1</td>\n",
       "      <td>31</td>\n",
       "      <td>2.5</td>\n",
       "      <td>1260759144</td>\n",
       "      <td>0</td>\n",
       "      <td>0</td>\n",
       "    </tr>\n",
       "    <tr>\n",
       "      <th>1</th>\n",
       "      <td>1</td>\n",
       "      <td>1029</td>\n",
       "      <td>3.0</td>\n",
       "      <td>1260759179</td>\n",
       "      <td>0</td>\n",
       "      <td>1</td>\n",
       "    </tr>\n",
       "    <tr>\n",
       "      <th>2</th>\n",
       "      <td>1</td>\n",
       "      <td>1061</td>\n",
       "      <td>3.0</td>\n",
       "      <td>1260759182</td>\n",
       "      <td>0</td>\n",
       "      <td>2</td>\n",
       "    </tr>\n",
       "    <tr>\n",
       "      <th>3</th>\n",
       "      <td>1</td>\n",
       "      <td>1129</td>\n",
       "      <td>2.0</td>\n",
       "      <td>1260759185</td>\n",
       "      <td>0</td>\n",
       "      <td>3</td>\n",
       "    </tr>\n",
       "    <tr>\n",
       "      <th>4</th>\n",
       "      <td>1</td>\n",
       "      <td>1172</td>\n",
       "      <td>4.0</td>\n",
       "      <td>1260759205</td>\n",
       "      <td>0</td>\n",
       "      <td>4</td>\n",
       "    </tr>\n",
       "    <tr>\n",
       "      <th>5</th>\n",
       "      <td>1</td>\n",
       "      <td>1263</td>\n",
       "      <td>2.0</td>\n",
       "      <td>1260759151</td>\n",
       "      <td>0</td>\n",
       "      <td>5</td>\n",
       "    </tr>\n",
       "    <tr>\n",
       "      <th>6</th>\n",
       "      <td>1</td>\n",
       "      <td>1287</td>\n",
       "      <td>2.0</td>\n",
       "      <td>1260759187</td>\n",
       "      <td>0</td>\n",
       "      <td>6</td>\n",
       "    </tr>\n",
       "    <tr>\n",
       "      <th>7</th>\n",
       "      <td>1</td>\n",
       "      <td>1293</td>\n",
       "      <td>2.0</td>\n",
       "      <td>1260759148</td>\n",
       "      <td>0</td>\n",
       "      <td>7</td>\n",
       "    </tr>\n",
       "    <tr>\n",
       "      <th>8</th>\n",
       "      <td>1</td>\n",
       "      <td>1339</td>\n",
       "      <td>3.5</td>\n",
       "      <td>1260759125</td>\n",
       "      <td>0</td>\n",
       "      <td>8</td>\n",
       "    </tr>\n",
       "    <tr>\n",
       "      <th>9</th>\n",
       "      <td>1</td>\n",
       "      <td>1343</td>\n",
       "      <td>2.0</td>\n",
       "      <td>1260759131</td>\n",
       "      <td>0</td>\n",
       "      <td>9</td>\n",
       "    </tr>\n",
       "  </tbody>\n",
       "</table>\n",
       "</div>"
      ],
      "text/plain": [
       "   userId  movieId  rating   timestamp  user_index  movie_index\n",
       "0       1       31     2.5  1260759144           0            0\n",
       "1       1     1029     3.0  1260759179           0            1\n",
       "2       1     1061     3.0  1260759182           0            2\n",
       "3       1     1129     2.0  1260759185           0            3\n",
       "4       1     1172     4.0  1260759205           0            4\n",
       "5       1     1263     2.0  1260759151           0            5\n",
       "6       1     1287     2.0  1260759187           0            6\n",
       "7       1     1293     2.0  1260759148           0            7\n",
       "8       1     1339     3.5  1260759125           0            8\n",
       "9       1     1343     2.0  1260759131           0            9"
      ]
     },
     "execution_count": 9,
     "metadata": {},
     "output_type": "execute_result"
    }
   ],
   "source": [
    "df.head(10)"
   ]
  },
  {
   "cell_type": "code",
   "execution_count": 14,
   "metadata": {},
   "outputs": [
    {
     "data": {
      "text/plain": [
       "count    100004.000000\n",
       "mean          0.676357\n",
       "std           0.235125\n",
       "min           0.000000\n",
       "25%           0.555556\n",
       "50%           0.777778\n",
       "75%           0.777778\n",
       "max           1.000000\n",
       "Name: rating, dtype: float64"
      ]
     },
     "execution_count": 14,
     "metadata": {},
     "output_type": "execute_result"
    }
   ],
   "source": [
    "#Scale ratings data to be in the range [0,1]\n",
    "#This makes things easier\n",
    "from sklearn.preprocessing import MinMaxScaler\n",
    "##Pick the range\\\n",
    "df[\"rating\"] = MinMaxScaler().fit_transform(df[\"rating\"].values.reshape(-1, 1))\n",
    "df[\"rating\"].describe()"
   ]
  },
  {
   "cell_type": "code",
   "execution_count": 12,
   "metadata": {},
   "outputs": [
    {
     "data": {
      "text/html": [
       "<div>\n",
       "<style scoped>\n",
       "    .dataframe tbody tr th:only-of-type {\n",
       "        vertical-align: middle;\n",
       "    }\n",
       "\n",
       "    .dataframe tbody tr th {\n",
       "        vertical-align: top;\n",
       "    }\n",
       "\n",
       "    .dataframe thead th {\n",
       "        text-align: right;\n",
       "    }\n",
       "</style>\n",
       "<table border=\"1\" class=\"dataframe\">\n",
       "  <thead>\n",
       "    <tr style=\"text-align: right;\">\n",
       "      <th></th>\n",
       "      <th>userId</th>\n",
       "      <th>movieId</th>\n",
       "      <th>rating</th>\n",
       "      <th>timestamp</th>\n",
       "      <th>user_index</th>\n",
       "      <th>movie_index</th>\n",
       "    </tr>\n",
       "  </thead>\n",
       "  <tbody>\n",
       "    <tr>\n",
       "      <th>0</th>\n",
       "      <td>1</td>\n",
       "      <td>31</td>\n",
       "      <td>0.444444</td>\n",
       "      <td>1260759144</td>\n",
       "      <td>0</td>\n",
       "      <td>0</td>\n",
       "    </tr>\n",
       "    <tr>\n",
       "      <th>1</th>\n",
       "      <td>1</td>\n",
       "      <td>1029</td>\n",
       "      <td>0.555556</td>\n",
       "      <td>1260759179</td>\n",
       "      <td>0</td>\n",
       "      <td>1</td>\n",
       "    </tr>\n",
       "    <tr>\n",
       "      <th>2</th>\n",
       "      <td>1</td>\n",
       "      <td>1061</td>\n",
       "      <td>0.555556</td>\n",
       "      <td>1260759182</td>\n",
       "      <td>0</td>\n",
       "      <td>2</td>\n",
       "    </tr>\n",
       "    <tr>\n",
       "      <th>3</th>\n",
       "      <td>1</td>\n",
       "      <td>1129</td>\n",
       "      <td>0.333333</td>\n",
       "      <td>1260759185</td>\n",
       "      <td>0</td>\n",
       "      <td>3</td>\n",
       "    </tr>\n",
       "    <tr>\n",
       "      <th>4</th>\n",
       "      <td>1</td>\n",
       "      <td>1172</td>\n",
       "      <td>0.777778</td>\n",
       "      <td>1260759205</td>\n",
       "      <td>0</td>\n",
       "      <td>4</td>\n",
       "    </tr>\n",
       "    <tr>\n",
       "      <th>5</th>\n",
       "      <td>1</td>\n",
       "      <td>1263</td>\n",
       "      <td>0.333333</td>\n",
       "      <td>1260759151</td>\n",
       "      <td>0</td>\n",
       "      <td>5</td>\n",
       "    </tr>\n",
       "    <tr>\n",
       "      <th>6</th>\n",
       "      <td>1</td>\n",
       "      <td>1287</td>\n",
       "      <td>0.333333</td>\n",
       "      <td>1260759187</td>\n",
       "      <td>0</td>\n",
       "      <td>6</td>\n",
       "    </tr>\n",
       "    <tr>\n",
       "      <th>7</th>\n",
       "      <td>1</td>\n",
       "      <td>1293</td>\n",
       "      <td>0.333333</td>\n",
       "      <td>1260759148</td>\n",
       "      <td>0</td>\n",
       "      <td>7</td>\n",
       "    </tr>\n",
       "    <tr>\n",
       "      <th>8</th>\n",
       "      <td>1</td>\n",
       "      <td>1339</td>\n",
       "      <td>0.666667</td>\n",
       "      <td>1260759125</td>\n",
       "      <td>0</td>\n",
       "      <td>8</td>\n",
       "    </tr>\n",
       "    <tr>\n",
       "      <th>9</th>\n",
       "      <td>1</td>\n",
       "      <td>1343</td>\n",
       "      <td>0.333333</td>\n",
       "      <td>1260759131</td>\n",
       "      <td>0</td>\n",
       "      <td>9</td>\n",
       "    </tr>\n",
       "  </tbody>\n",
       "</table>\n",
       "</div>"
      ],
      "text/plain": [
       "   userId  movieId    rating   timestamp  user_index  movie_index\n",
       "0       1       31  0.444444  1260759144           0            0\n",
       "1       1     1029  0.555556  1260759179           0            1\n",
       "2       1     1061  0.555556  1260759182           0            2\n",
       "3       1     1129  0.333333  1260759185           0            3\n",
       "4       1     1172  0.777778  1260759205           0            4\n",
       "5       1     1263  0.333333  1260759151           0            5\n",
       "6       1     1287  0.333333  1260759187           0            6\n",
       "7       1     1293  0.333333  1260759148           0            7\n",
       "8       1     1339  0.666667  1260759125           0            8\n",
       "9       1     1343  0.333333  1260759131           0            9"
      ]
     },
     "execution_count": 12,
     "metadata": {},
     "output_type": "execute_result"
    }
   ],
   "source": [
    "#Check the dataframe\n",
    "df.head(10)"
   ]
  },
  {
   "cell_type": "code",
   "execution_count": 17,
   "metadata": {},
   "outputs": [],
   "source": [
    "from sklearn.model_selection import train_test_split"
   ]
  },
  {
   "cell_type": "code",
   "execution_count": 18,
   "metadata": {},
   "outputs": [],
   "source": [
    "x = df[[\"user_index\", \"movie_index\"]] #Inputs\n",
    "y = df[\"rating\"] #Outputs\n",
    "x_train, x_test, y_train, y_test = train_test_split(x, y, test_size=0.1, random_state=42) #Get train-test split"
   ]
  },
  {
   "cell_type": "code",
   "execution_count": 19,
   "metadata": {},
   "outputs": [],
   "source": [
    "## DEFINE THE MODEL ##\n",
    "\n",
    "class RecommenderNet(torch.nn.Module):\n",
    "    def __init__(self, num_users, num_movies, embedding_size=20):\n",
    "        super().__init__()\n",
    "        self.user_embedding = torch.nn.Embedding(num_users, embedding_size)\n",
    "        self.user_bias = torch.nn.Embedding(num_users, 1)\n",
    "        self.movie_embedding = torch.nn.Embedding(num_movies, embedding_size)\n",
    "        self.movie_bias = torch.nn.Embedding(num_movies, 1)\n",
    "        self.sig = torch.nn.Sigmoid()\n",
    "\n",
    "    def forward(self, inputs):\n",
    "        #Split out indexes \n",
    "        user_indexes = inputs[:, 0]\n",
    "        movie_indexes = inputs[:, 1]\n",
    "        #Forward pass on embedding layer\n",
    "        user_vector = self.user_embedding(user_indexes)\n",
    "        user_bias = self.user_bias(user_indexes).flatten()\n",
    "        movie_vector = self.movie_embedding(movie_indexes)\n",
    "        movie_bias = self.movie_bias(movie_indexes).flatten()\n",
    "        #Dot product\n",
    "        dot = (user_vector * movie_vector).sum(1)\n",
    "        with_bias = dot + user_bias + movie_bias\n",
    "        #Activation function\n",
    "        output = self.sig(with_bias)\n",
    "        return output"
   ]
  },
  {
   "cell_type": "code",
   "execution_count": 22,
   "metadata": {},
   "outputs": [],
   "source": [
    "## SET UP THE MODEL ##\n",
    "EMBEDDING_SIZE = 16 #Pick Embedding size\n",
    "#Make new object (calls __init__())\n",
    "num_users = len(user_ids)\n",
    "num_movies = len(movie_ids)\n",
    "model = RecommenderNet(num_users, num_movies, EMBEDDING_SIZE)"
   ]
  },
  {
   "cell_type": "code",
   "execution_count": 23,
   "metadata": {},
   "outputs": [],
   "source": [
    "from torch.utils.data import DataLoader\n",
    "from torch.utils.data import Dataset\n",
    "\n",
    "#Make a subclass to hold our dataset (movie - user pairs (input) and a rating (label))\n",
    "class MoviesDataset(Dataset):\n",
    "    def __init__(self, X,y):\n",
    "        self.X = torch.IntTensor(X)\n",
    "        self.y = torch.FloatTensor(y)\n",
    "    def __len__(self):\n",
    "        return len(self.X)\n",
    "    def __getitem__(self, idx):\n",
    "        return self.X[idx], self.y[idx]"
   ]
  },
  {
   "cell_type": "markdown",
   "metadata": {},
   "source": [
    "Use the train - valid split to make dataloader objects"
   ]
  },
  {
   "cell_type": "code",
   "execution_count": 24,
   "metadata": {},
   "outputs": [],
   "source": [
    "train_dl = DataLoader(MoviesDataset(x_train.values,y_train.values), batch_size=64, shuffle=True)\n",
    "validation_dl = DataLoader(MoviesDataset(x_test.values,y_test.values), batch_size=64, shuffle=True)"
   ]
  },
  {
   "cell_type": "code",
   "execution_count": 26,
   "metadata": {},
   "outputs": [],
   "source": [
    "epochs = 40\n",
    "#Use Mean Squared Error as a loss function\n",
    "loss_fn = torch.nn.MSELoss() \n",
    "#Use the Adam algorithm to update the weights based on the loss\n",
    "optimizer = torch.optim.Adam(model.parameters(),lr=0.01)"
   ]
  },
  {
   "cell_type": "code",
   "execution_count": 27,
   "metadata": {},
   "outputs": [
    {
     "name": "stdout",
     "output_type": "stream",
     "text": [
      "Loss 0.17188860476016998 valid Loss 0.11426646262407303\n",
      "Loss 0.07757384330034256 valid Loss 0.08189493417739868\n",
      "Loss 0.04925111308693886 valid Loss 0.07100947946310043\n",
      "Loss 0.03734023496508598 valid Loss 0.06702039390802383\n",
      "Loss 0.031242750585079193 valid Loss 0.06351478397846222\n",
      "Loss 0.02767421118915081 valid Loss 0.06326999515295029\n",
      "Loss 0.02518506534397602 valid Loss 0.06302674859762192\n",
      "Loss 0.02372647263109684 valid Loss 0.06433404982089996\n",
      "Loss 0.02252057008445263 valid Loss 0.06452123820781708\n",
      "Loss 0.021574944257736206 valid Loss 0.06377163529396057\n",
      "Loss 0.021158527582883835 valid Loss 0.06417026370763779\n",
      "Loss 0.020553337410092354 valid Loss 0.06386887282133102\n",
      "Loss 0.02017665095627308 valid Loss 0.0645112469792366\n",
      "Loss 0.019846133887767792 valid Loss 0.06427892297506332\n",
      "Loss 0.019456781446933746 valid Loss 0.06569875776767731\n",
      "Loss 0.019278040155768394 valid Loss 0.06430889666080475\n",
      "Loss 0.01910562813282013 valid Loss 0.0654091089963913\n",
      "Loss 0.018828995525836945 valid Loss 0.06504222005605698\n",
      "Loss 0.01875131018459797 valid Loss 0.06516411900520325\n",
      "Loss 0.018612826243042946 valid Loss 0.06469327211380005\n",
      "Loss 0.018481647595763206 valid Loss 0.06509343534708023\n",
      "Loss 0.018316157162189484 valid Loss 0.0652398020029068\n",
      "Loss 0.018280422315001488 valid Loss 0.06408211588859558\n",
      "Loss 0.01808685064315796 valid Loss 0.06466542929410934\n",
      "Loss 0.01811697520315647 valid Loss 0.06438338756561279\n",
      "Loss 0.017870372161269188 valid Loss 0.06457178294658661\n",
      "Loss 0.018020497635006905 valid Loss 0.06484414637088776\n",
      "Loss 0.01790711283683777 valid Loss 0.0641842782497406\n",
      "Loss 0.01780341938138008 valid Loss 0.06472735852003098\n",
      "Loss 0.017821630463004112 valid Loss 0.06495615094900131\n",
      "Loss 0.017595890909433365 valid Loss 0.06484122574329376\n",
      "Loss 0.017614299431443214 valid Loss 0.06584500521421432\n",
      "Loss 0.017626367509365082 valid Loss 0.06521819531917572\n",
      "Loss 0.017500314861536026 valid Loss 0.06395292282104492\n",
      "Loss 0.017529437318444252 valid Loss 0.06534340977668762\n",
      "Loss 0.01747186668217182 valid Loss 0.06543292850255966\n",
      "Loss 0.017368758097290993 valid Loss 0.06507723778486252\n",
      "Loss 0.017429891973733902 valid Loss 0.06488026678562164\n",
      "Loss 0.01731119304895401 valid Loss 0.06511009484529495\n",
      "Loss 0.01731194742023945 valid Loss 0.0656650960445404\n"
     ]
    }
   ],
   "source": [
    "#Use a for loop to repeat for the desired number of epochs \n",
    "for i in range(epochs):\n",
    "    \n",
    "    model.train(True)\n",
    "    \n",
    "    #Use a for loop for each batch (provided by the Dataloader)\n",
    "    running_loss = 0.0\n",
    "    for (index, batch) in enumerate(train_dl):\n",
    "        \n",
    "        #Get batch \n",
    "        inputs, labels = batch\n",
    "        model.zero_grad()\n",
    "        \n",
    "        #Forward pass\n",
    "        prediction = model(inputs)\n",
    "        \n",
    "        #Get Loss\n",
    "        loss = loss_fn(prediction, labels)\n",
    "        \n",
    "        #Update weights (back prop)\n",
    "        loss.backward()\n",
    "        optimizer.step()\n",
    "        running_loss += loss\n",
    "    \n",
    "    avg_loss = running_loss / (index + 1)\n",
    "\n",
    "    model.train(False)\n",
    "\n",
    "    #Now try with the validation set (no need to update weights, just get loss)\n",
    "    running_vloss = 0.0\n",
    "    for index, vdata in enumerate(validation_dl):\n",
    "        vinputs, vlabels = vdata\n",
    "        voutputs = model(vinputs)\n",
    "        vloss = loss_fn(voutputs, vlabels)\n",
    "        running_vloss += vloss\n",
    "\n",
    "    avg_vloss = running_vloss / (index + 1)\n",
    "    print('Loss {} valid Loss {}'.format(avg_loss, avg_vloss))"
   ]
  },
  {
   "cell_type": "code",
   "execution_count": 28,
   "metadata": {},
   "outputs": [],
   "source": [
    "torch.save(model.state_dict(), 'moive_rating_model_weights.pth')"
   ]
  },
  {
   "cell_type": "code",
   "execution_count": 30,
   "metadata": {},
   "outputs": [
    {
     "data": {
      "text/plain": [
       "RecommenderNet(\n",
       "  (user_embedding): Embedding(671, 16)\n",
       "  (user_bias): Embedding(671, 1)\n",
       "  (movie_embedding): Embedding(9066, 16)\n",
       "  (movie_bias): Embedding(9066, 1)\n",
       "  (sig): Sigmoid()\n",
       ")"
      ]
     },
     "execution_count": 30,
     "metadata": {},
     "output_type": "execute_result"
    }
   ],
   "source": [
    "model = RecommenderNet(num_users, num_movies, EMBEDDING_SIZE)\n",
    "model.load_state_dict(torch.load('/home/featurize/moive_rating_model_weights.pth'))\n",
    "model.eval()"
   ]
  },
  {
   "cell_type": "markdown",
   "metadata": {},
   "source": [
    "## Training the model"
   ]
  },
  {
   "cell_type": "code",
   "execution_count": 40,
   "metadata": {},
   "outputs": [],
   "source": [
    "from sklearn.decomposition import PCA\n",
    "from sklearn.metrics.pairwise import cosine_similarity as cosine\n",
    "from sklearn.preprocessing import StandardScaler"
   ]
  },
  {
   "cell_type": "code",
   "execution_count": 41,
   "metadata": {},
   "outputs": [
    {
     "data": {
      "text/plain": [
       "Index(['movieId', 'title', 'genres'], dtype='object')"
      ]
     },
     "execution_count": 41,
     "metadata": {},
     "output_type": "execute_result"
    }
   ],
   "source": [
    "# get columns\n",
    "movie_data = pd.read_csv(\"/home/featurize/movies.csv\")\n",
    "movie_data.columns"
   ]
  },
  {
   "cell_type": "code",
   "execution_count": 91,
   "metadata": {},
   "outputs": [],
   "source": [
    "def get_top_n(user = 0, n = 10): \n",
    "    #Get Movie Names\n",
    "    top_n_indexes = get_top_n_indexes(user, n)\n",
    "    top_n = get_names_for_indexes(top_n_indexes)\n",
    "    return top_n\n",
    "\n",
    "def get_n_for_indexes(indexes):\n",
    "    return [movie_data[movie_data[\"movieId\"]==movie_ids[i]][\"title\"].item() for i in indexes]\n",
    "\n",
    "def get_top_n_indexes(user = 0, n = 10):\n",
    "    #For one user, make a pair with every movie index\n",
    "    x = torch.IntTensor([[user, i] for i in np.arange(num_movies)])\n",
    "    #Predict \n",
    "    predicted_ratings = model(x)\n",
    "    #Get Top-N indexes\n",
    "    top_n_indexes = predicted_ratings.argsort()[-n:]\n",
    "    return top_n_indexes"
   ]
  },
  {
   "cell_type": "markdown",
   "metadata": {},
   "source": [
    "## Calculate every user's top 10"
   ]
  },
  {
   "cell_type": "code",
   "execution_count": 92,
   "metadata": {},
   "outputs": [
    {
     "name": "stdout",
     "output_type": "stream",
     "text": [
      "Top 10 for user id: 151\n"
     ]
    },
    {
     "data": {
      "text/plain": [
       "['Kwaidan (Kaidan) (1964)',\n",
       " 'An Evening with Robin Williams (1982)',\n",
       " 'Seducing Doctor Lewis (Grande séduction, La) (2003)',\n",
       " 'Jesus of Montreal (Jésus de Montréal) (1989)',\n",
       " 'Maborosi (Maboroshi no hikari) (1995)',\n",
       " 'On Probation (Tiempo de Valientes) (2005)',\n",
       " 'Bill Hicks: Revelations (1993)',\n",
       " 'Green for Danger (1946)',\n",
       " 'Rivers and Tides (2001)',\n",
       " 'Thief of Bagdad, The (1924)']"
      ]
     },
     "execution_count": 92,
     "metadata": {},
     "output_type": "execute_result"
    }
   ],
   "source": [
    "#Random users top 10\n",
    "user = np.random.randint(num_users)\n",
    "print(\"Top 10 for user id:\", user_ids[user])\n",
    "get_top_name(np.random.randint(num_users))"
   ]
  },
  {
   "cell_type": "markdown",
   "metadata": {},
   "source": [
    "## top 10 recommendations for each user"
   ]
  },
  {
   "cell_type": "code",
   "execution_count": 94,
   "metadata": {},
   "outputs": [],
   "source": [
    "top10_movies_per_user = []  # Create an empty list to store top 10 recommendations for each user\n",
    "\n",
    "# Iterate over each user\n",
    "for user in range(num_users):\n",
    "    # Get the top 10 movie recommendations for the current user\n",
    "    top10_movies = get_top_n(user, n=10)\n",
    "    top10_movies_per_user.append(top10_movies)  # Append the top 10 movies to the list"
   ]
  },
  {
   "cell_type": "code",
   "execution_count": 95,
   "metadata": {},
   "outputs": [
    {
     "name": "stdout",
     "output_type": "stream",
     "text": [
      "   userId  movieId    rating   timestamp  user_index  movie_index\n",
      "0       1       31  0.444444  1260759144           0            0\n",
      "1       1     1029  0.555556  1260759179           0            1\n",
      "2       1     1061  0.555556  1260759182           0            2\n",
      "3       1     1129  0.333333  1260759185           0            3\n",
      "4       1     1172  0.777778  1260759205           0            4\n"
     ]
    }
   ],
   "source": [
    "print(df.head())"
   ]
  },
  {
   "cell_type": "code",
   "execution_count": 96,
   "metadata": {},
   "outputs": [
    {
     "name": "stdout",
     "output_type": "stream",
     "text": [
      "['Maborosi (Maboroshi no hikari) (1995)', 'Cops (1922)', 'Kwaidan (Kaidan) (1964)', 'Dorian Blues (2004)', 'Birdy (1984)', 'Dark Days (2000)', 'Thirty-Two Short Films About Glenn Gould (1993)', 'Phantom of the Paradise (1974)', \"Sgt. Pepper's Lonely Hearts Club Band (1978)\", 'Past, The (Le passé) (2013)']\n",
      "['Shining Through (1992)', 'Offside (2006)', '16 Wishes (2010)', 'Maborosi (Maboroshi no hikari) (1995)', 'North Shore (1987)', 'Bill Hicks: Relentless (1992)', 'Bill Hicks: Revelations (1993)', 'Red Firecracker, Green Firecracker (Pao Da Shuang Deng) (1994)', 'Arthur 2: On the Rocks (1988)', \"Love Me If You Dare (Jeux d'enfants) (2003)\"]\n"
     ]
    }
   ],
   "source": [
    "for user_movies in top10_movies_per_user[:2]:\n",
    "    print(user_movies)"
   ]
  },
  {
   "cell_type": "markdown",
   "metadata": {},
   "source": [
    "## top_recommendation_user1"
   ]
  },
  {
   "cell_type": "markdown",
   "metadata": {},
   "source": [
    "Print the top recommendation for the first user"
   ]
  },
  {
   "cell_type": "code",
   "execution_count": 102,
   "metadata": {},
   "outputs": [
    {
     "name": "stdout",
     "output_type": "stream",
     "text": [
      "Top Recommendation for User 1: Past, The (Le passé) (2013)\n"
     ]
    }
   ],
   "source": [
    "top_recommendation_user1 = top10_movies_per_user[0][9]\n",
    "print(\"Top Recommendation for User 1:\", top_recommendation_user1)"
   ]
  },
  {
   "cell_type": "markdown",
   "metadata": {},
   "source": [
    "## Get the Embedding for each film ."
   ]
  },
  {
   "cell_type": "code",
   "execution_count": 105,
   "metadata": {},
   "outputs": [
    {
     "name": "stdout",
     "output_type": "stream",
     "text": [
      "Embedding for the first movie: tensor([-0.0792,  0.5212,  0.5155, -0.3718, -0.0338, -0.7272,  0.3426, -0.4025,\n",
      "         0.0127, -0.9532, -0.2883,  0.1363,  0.4082, -0.6667, -0.7497,  0.4618])\n"
     ]
    }
   ],
   "source": [
    "first_movie_index = 0  # Assuming the index of the first movie is 0\n",
    "embedding = model.movie_embedding.weight.data[first_movie_index]\n",
    "print(\"Embedding for the first movie:\", embedding)"
   ]
  },
  {
   "cell_type": "code",
   "execution_count": 119,
   "metadata": {},
   "outputs": [
    {
     "name": "stdout",
     "output_type": "stream",
     "text": [
      "Movie not found in the dataset.\n"
     ]
    }
   ],
   "source": [
    "first_user_movies = top10_movies_per_user[0]  # Assuming the first user is at index 0\n",
    "first_movie_name = first_user_movies[0]  # Assuming the first movie is at index 0\n",
    "\n",
    "if movie_data[\"movieId\"].isin([first_movie_name]).any():\n",
    "    first_movie_index = movie_data[movie_data[\"movieId\"] == first_movie_name].index[0]\n",
    "    embedding = model.movie_embedding.weight.data[first_movie_index]\n",
    "    print(\"Embedding for the first movie of the first film watcher:\", embedding)\n",
    "else:\n",
    "    print(\"Movie not found in the dataset.\")"
   ]
  },
  {
   "cell_type": "code",
   "execution_count": 120,
   "metadata": {},
   "outputs": [
    {
     "name": "stdout",
     "output_type": "stream",
     "text": [
      "Movies for the first film watcher in top10_movies:\n",
      "['Maborosi (Maboroshi no hikari) (1995)', 'Cops (1922)', 'Kwaidan (Kaidan) (1964)', 'Dorian Blues (2004)', 'Birdy (1984)', 'Dark Days (2000)', 'Thirty-Two Short Films About Glenn Gould (1993)', 'Phantom of the Paradise (1974)', \"Sgt. Pepper's Lonely Hearts Club Band (1978)\", 'Past, The (Le passé) (2013)']\n"
     ]
    }
   ],
   "source": [
    "print(\"Movies for the first film watcher in top10_movies:\")\n",
    "print(top10_movies_per_user[0])"
   ]
  },
  {
   "cell_type": "code",
   "execution_count": null,
   "metadata": {},
   "outputs": [],
   "source": []
  },
  {
   "cell_type": "markdown",
   "metadata": {},
   "source": [
    "# Assignment Task 2"
   ]
  },
  {
   "cell_type": "code",
   "execution_count": 61,
   "metadata": {},
   "outputs": [],
   "source": [
    "import matplotlib.pyplot as plt"
   ]
  },
  {
   "cell_type": "code",
   "execution_count": 62,
   "metadata": {},
   "outputs": [],
   "source": [
    "# Load the MovieLens Small dataset\n",
    "df_ratings = pd.read_csv(\"/home/featurize/ratings.csv\")\n",
    "df_movies = pd.read_csv(\"/home/featurize/movies.csv\")"
   ]
  },
  {
   "cell_type": "code",
   "execution_count": 84,
   "metadata": {},
   "outputs": [],
   "source": [
    "# The film is rated out of 5\n",
    "filtered_movies = df_ratings.groupby('movieId')['rating'].mean().reset_index()\n",
    "filtered_movies = filtered_movies[filtered_movies['rating'] == 5]\n",
    "filtered_movies = filtered_movies.merge(df_movies, on='movieId')\n",
    "\n",
    "top_rated_movies = filtered_movies.nlargest(30, 'rating')\n",
    "\n",
    "# Get the movie embeddings for the selected movies\n",
    "movie_embeddings = model.movie_embedding.weight[top_rated_movies['movieId']]"
   ]
  },
  {
   "cell_type": "code",
   "execution_count": 78,
   "metadata": {},
   "outputs": [],
   "source": [
    "from sklearn.decomposition import PCA\n",
    "# Dimensionality reduction(PCA)\n",
    "pca = PCA(n_components=2)\n",
    "reduced_embeddings = pca.fit_transform(movie_embeddings.detach().numpy())"
   ]
  },
  {
   "cell_type": "code",
   "execution_count": 87,
   "metadata": {},
   "outputs": [
    {
     "data": {
      "image/png": "[encoded data removed]",
      "text/plain": [
       "<Figure size 1400x1000 with 1 Axes>"
      ]
     },
     "metadata": {},
     "output_type": "display_data"
    }
   ],
   "source": [
    "# Plot the 2D graph\n",
    "plt.figure(figsize=(14, 10))\n",
    "plt.scatter(reduced_embeddings[:, 0], reduced_embeddings[:, 1])\n",
    "plt.title(\"Top 30 Best-Rated Films \")\n",
    "plt.xlabel(\"PCA1\")\n",
    "plt.ylabel(\"PCA2\")\n",
    "# Label each point with the movie title\n",
    "for i, movie in top_rated_movies.iterrows():\n",
    "    plt.annotate(movie['title'], (reduced_embeddings[i, 0], reduced_embeddings[i, 1]), fontsize=9)\n",
    "\n",
    "plt.show()"
   ]
  }
 ],
 "metadata": {
  "kernelspec": {
   "display_name": "Python 3 (ipykernel)",
   "language": "python",
   "name": "python3"
  },
  "language_info": {
   "codemirror_mode": {
    "name": "ipython",
    "version": 3
   },
   "file_extension": ".py",
   "mimetype": "text/x-python",
   "name": "python",
   "nbconvert_exporter": "python",
   "pygments_lexer": "ipython3",
   "version": "3.10.12"
  },
  "varInspector": {
   "cols": {
    "lenName": 16,
    "lenType": 16,
    "lenVar": 40
   },
   "kernels_config": {
    "python": {
     "delete_cmd_postfix": "",
     "delete_cmd_prefix": "del ",
     "library": "var_list.py",
     "varRefreshCmd": "print(var_dic_list())"
    },
    "r": {
     "delete_cmd_postfix": ") ",
     "delete_cmd_prefix": "rm(",
     "library": "var_list.r",
     "varRefreshCmd": "cat(var_dic_list()) "
    }
   },
   "types_to_exclude": [
    "module",
    "function",
    "builtin_function_or_method",
    "instance",
    "_Feature"
   ],
   "window_display": false
  }
 },
 "nbformat": 4,
 "nbformat_minor": 4
}
